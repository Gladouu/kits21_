{
 "cells": [
  {
   "cell_type": "markdown",
   "id": "118df47a",
   "metadata": {},
   "source": [
    "# Foreword"
   ]
  },
  {
   "cell_type": "markdown",
   "id": "808f7c5c",
   "metadata": {},
   "source": [
    "As part of the [Data Scientist training](https://datascientest.com/formation-data-scientist) with the Data Scientest organization, a common thread project is to be carried out, as a team, throughout it.\n",
    "\n",
    "This common thread project therefore has several objectives :\n",
    "\n",
    "   * Translate a business problem into a Data Science problem\n",
    "   * Identify and choose the data necessary for its resolution\n",
    "   * Model the problem (data, choice of algorithms, etc.)\n",
    "   * Bring business expertise and a critical look at its results\n",
    "   * Restore, present and illustrate its results to any type of audience\n",
    "\n",
    "The chosen project is the KiTS21, which consists of segmenting the kidneys and possible kidney tumors. All the information, as well as the data, is available on the [official website of the competition](https://kits21.kits-challenge.org)."
   ]
  },
  {
   "cell_type": "markdown",
   "id": "1af76add",
   "metadata": {},
   "source": [
    "# First Stage"
   ]
  },
  {
   "cell_type": "markdown",
   "id": "222ab948",
   "metadata": {},
   "source": [
    "The aim of this notebook is therefore to present the first step requested within the framework of this project :\n",
    "\n",
    "Exploration of the problem and visualization of the data.\n",
    "\n",
    "As the data we have are images, it seemed complicated to us to establish a report containing the data visualization requested during this first step. However, a file in json format, containing the metadata of the 300 patients to whom the 300 images belong, is provided. The latter therefore allows us to carry out the expected data visualization as well as to make certain hypotheses concerning kidney cancer."
   ]
  },
  {
   "cell_type": "markdown",
   "id": "5089b04a",
   "metadata": {},
   "source": [
    "# Environment"
   ]
  },
  {
   "cell_type": "code",
   "execution_count": 1,
   "id": "50506f80",
   "metadata": {},
   "outputs": [],
   "source": [
    "#import all the necessary packages\n",
    "import numpy as np\n",
    "import nibabel as nib\n",
    "import pandas as pd\n",
    "import matplotlib.pyplot as plt\n",
    "import seaborn as sns \n",
    "import json\n",
    "import nibabel as nib\n",
    "from ipywidgets import interact"
   ]
  },
  {
   "cell_type": "code",
   "execution_count": 2,
   "id": "cfa2fa97",
   "metadata": {},
   "outputs": [],
   "source": [
    "pd.set_option('display.max_columns', None)"
   ]
  },
  {
   "cell_type": "markdown",
   "id": "16890535",
   "metadata": {},
   "source": [
    "# Exploratory Data Analysis"
   ]
  },
  {
   "cell_type": "code",
   "execution_count": 3,
   "id": "ebef1adc",
   "metadata": {},
   "outputs": [
    {
     "data": {
      "text/html": [
       "<div>\n",
       "<style scoped>\n",
       "    .dataframe tbody tr th:only-of-type {\n",
       "        vertical-align: middle;\n",
       "    }\n",
       "\n",
       "    .dataframe tbody tr th {\n",
       "        vertical-align: top;\n",
       "    }\n",
       "\n",
       "    .dataframe thead th {\n",
       "        text-align: right;\n",
       "    }\n",
       "</style>\n",
       "<table border=\"1\" class=\"dataframe\">\n",
       "  <thead>\n",
       "    <tr style=\"text-align: right;\">\n",
       "      <th></th>\n",
       "      <th>case_id</th>\n",
       "      <th>age_at_nephrectomy</th>\n",
       "      <th>gender</th>\n",
       "      <th>body_mass_index</th>\n",
       "      <th>smoking_history</th>\n",
       "      <th>age_when_quit_smoking</th>\n",
       "      <th>pack_years</th>\n",
       "      <th>chewing_tobacco_use</th>\n",
       "      <th>alcohol_use</th>\n",
       "      <th>hospitalization</th>\n",
       "      <th>ischemia_time</th>\n",
       "      <th>radiographic_size</th>\n",
       "      <th>pathologic_size</th>\n",
       "      <th>malignant</th>\n",
       "      <th>pathology_t_stage</th>\n",
       "      <th>pathology_n_stage</th>\n",
       "      <th>pathology_m_stage</th>\n",
       "      <th>tumor_histologic_subtype</th>\n",
       "      <th>tumor_necrosis</th>\n",
       "      <th>tumor_isup_grade</th>\n",
       "      <th>clavien_surgical_complications</th>\n",
       "      <th>er_visit</th>\n",
       "      <th>readmission</th>\n",
       "      <th>estimated_blood_loss</th>\n",
       "      <th>surgery_type</th>\n",
       "      <th>surgical_procedure</th>\n",
       "      <th>surgical_approach</th>\n",
       "      <th>operative_time</th>\n",
       "      <th>cytoreductive</th>\n",
       "      <th>positive_resection_margins</th>\n",
       "      <th>vital_status</th>\n",
       "      <th>vital_days_after_surgery</th>\n",
       "      <th>comorbidities.myocardial_infarction</th>\n",
       "      <th>comorbidities.congestive_heart_failure</th>\n",
       "      <th>comorbidities.peripheral_vascular_disease</th>\n",
       "      <th>comorbidities.cerebrovascular_disease</th>\n",
       "      <th>comorbidities.dementia</th>\n",
       "      <th>comorbidities.copd</th>\n",
       "      <th>comorbidities.connective_tissue_disease</th>\n",
       "      <th>comorbidities.peptic_ulcer_disease</th>\n",
       "      <th>comorbidities.uncomplicated_diabetes_mellitus</th>\n",
       "      <th>comorbidities.diabetes_mellitus_with_end_organ_damage</th>\n",
       "      <th>comorbidities.chronic_kidney_disease</th>\n",
       "      <th>comorbidities.hemiplegia_from_stroke</th>\n",
       "      <th>comorbidities.leukemia</th>\n",
       "      <th>comorbidities.malignant_lymphoma</th>\n",
       "      <th>comorbidities.localized_solid_tumor</th>\n",
       "      <th>comorbidities.metastatic_solid_tumor</th>\n",
       "      <th>comorbidities.mild_liver_disease</th>\n",
       "      <th>comorbidities.moderate_to_severe_liver_disease</th>\n",
       "      <th>comorbidities.aids</th>\n",
       "      <th>intraoperative_complications.blood_transfusion</th>\n",
       "      <th>intraoperative_complications.injury_to_surrounding_organ</th>\n",
       "      <th>intraoperative_complications.cardiac_event</th>\n",
       "      <th>last_preop_egfr.value</th>\n",
       "      <th>last_preop_egfr.days_before_nephrectomy</th>\n",
       "      <th>first_postop_egfr.value</th>\n",
       "      <th>first_postop_egfr.days_before_nephrectomy</th>\n",
       "      <th>last_postop_egfr.value</th>\n",
       "      <th>last_postop_egfr.days_before_nephrectomy</th>\n",
       "      <th>voxel_spacing.x_spacing</th>\n",
       "      <th>voxel_spacing.y_spacing</th>\n",
       "      <th>voxel_spacing.z_spacing</th>\n",
       "    </tr>\n",
       "  </thead>\n",
       "  <tbody>\n",
       "    <tr>\n",
       "      <th>0</th>\n",
       "      <td>case_00000</td>\n",
       "      <td>49</td>\n",
       "      <td>male</td>\n",
       "      <td>29.47</td>\n",
       "      <td>never_smoked</td>\n",
       "      <td>not_applicable</td>\n",
       "      <td>0</td>\n",
       "      <td>never_or_not_in_last_3mo</td>\n",
       "      <td>two_or_less_daily</td>\n",
       "      <td>2</td>\n",
       "      <td>20</td>\n",
       "      <td>2.4</td>\n",
       "      <td>2.1</td>\n",
       "      <td>True</td>\n",
       "      <td>1a</td>\n",
       "      <td>0</td>\n",
       "      <td>0</td>\n",
       "      <td>clear_cell_rcc</td>\n",
       "      <td>False</td>\n",
       "      <td>3.0</td>\n",
       "      <td>0</td>\n",
       "      <td>False</td>\n",
       "      <td>False</td>\n",
       "      <td>400.0</td>\n",
       "      <td>robotic</td>\n",
       "      <td>partial_nephrectomy</td>\n",
       "      <td>Transperitoneal</td>\n",
       "      <td>324.0</td>\n",
       "      <td>False</td>\n",
       "      <td>False</td>\n",
       "      <td>censored</td>\n",
       "      <td>1420</td>\n",
       "      <td>False</td>\n",
       "      <td>False</td>\n",
       "      <td>False</td>\n",
       "      <td>False</td>\n",
       "      <td>False</td>\n",
       "      <td>False</td>\n",
       "      <td>False</td>\n",
       "      <td>False</td>\n",
       "      <td>False</td>\n",
       "      <td>False</td>\n",
       "      <td>False</td>\n",
       "      <td>False</td>\n",
       "      <td>False</td>\n",
       "      <td>False</td>\n",
       "      <td>False</td>\n",
       "      <td>False</td>\n",
       "      <td>False</td>\n",
       "      <td>False</td>\n",
       "      <td>False</td>\n",
       "      <td>False</td>\n",
       "      <td>False</td>\n",
       "      <td>False</td>\n",
       "      <td>77.0</td>\n",
       "      <td>54.0</td>\n",
       "      <td>76.0</td>\n",
       "      <td>184.0</td>\n",
       "      <td>&gt;=90</td>\n",
       "      <td>1420.0</td>\n",
       "      <td>0.919922</td>\n",
       "      <td>0.919922</td>\n",
       "      <td>0.5</td>\n",
       "    </tr>\n",
       "    <tr>\n",
       "      <th>1</th>\n",
       "      <td>case_00001</td>\n",
       "      <td>50</td>\n",
       "      <td>male</td>\n",
       "      <td>33.71</td>\n",
       "      <td>previous_smoker</td>\n",
       "      <td>33</td>\n",
       "      <td>7</td>\n",
       "      <td>never_or_not_in_last_3mo</td>\n",
       "      <td>two_or_less_daily</td>\n",
       "      <td>6</td>\n",
       "      <td>13</td>\n",
       "      <td>2.2</td>\n",
       "      <td>2.4</td>\n",
       "      <td>True</td>\n",
       "      <td>1a</td>\n",
       "      <td>X</td>\n",
       "      <td>X</td>\n",
       "      <td>papillary</td>\n",
       "      <td>False</td>\n",
       "      <td>2.0</td>\n",
       "      <td>1</td>\n",
       "      <td>True</td>\n",
       "      <td>False</td>\n",
       "      <td>1100.0</td>\n",
       "      <td>open</td>\n",
       "      <td>partial_nephrectomy</td>\n",
       "      <td>Retroperitoneal</td>\n",
       "      <td>293.0</td>\n",
       "      <td>False</td>\n",
       "      <td>False</td>\n",
       "      <td>censored</td>\n",
       "      <td>1401</td>\n",
       "      <td>False</td>\n",
       "      <td>False</td>\n",
       "      <td>False</td>\n",
       "      <td>False</td>\n",
       "      <td>False</td>\n",
       "      <td>False</td>\n",
       "      <td>False</td>\n",
       "      <td>False</td>\n",
       "      <td>False</td>\n",
       "      <td>False</td>\n",
       "      <td>False</td>\n",
       "      <td>False</td>\n",
       "      <td>False</td>\n",
       "      <td>False</td>\n",
       "      <td>False</td>\n",
       "      <td>False</td>\n",
       "      <td>False</td>\n",
       "      <td>False</td>\n",
       "      <td>False</td>\n",
       "      <td>False</td>\n",
       "      <td>False</td>\n",
       "      <td>False</td>\n",
       "      <td>67.0</td>\n",
       "      <td>1.0</td>\n",
       "      <td>58.0</td>\n",
       "      <td>117.0</td>\n",
       "      <td>56.0</td>\n",
       "      <td>1401.0</td>\n",
       "      <td>0.798828</td>\n",
       "      <td>0.798828</td>\n",
       "      <td>0.5</td>\n",
       "    </tr>\n",
       "    <tr>\n",
       "      <th>2</th>\n",
       "      <td>case_00002</td>\n",
       "      <td>74</td>\n",
       "      <td>male</td>\n",
       "      <td>28.13</td>\n",
       "      <td>current_smoker</td>\n",
       "      <td>not_applicable</td>\n",
       "      <td>50</td>\n",
       "      <td>never_or_not_in_last_3mo</td>\n",
       "      <td>never_or_not_in_last_3mo</td>\n",
       "      <td>1</td>\n",
       "      <td>18</td>\n",
       "      <td>4.5</td>\n",
       "      <td>5.4</td>\n",
       "      <td>True</td>\n",
       "      <td>3</td>\n",
       "      <td>0</td>\n",
       "      <td>0</td>\n",
       "      <td>papillary</td>\n",
       "      <td>False</td>\n",
       "      <td>2.0</td>\n",
       "      <td>0</td>\n",
       "      <td>False</td>\n",
       "      <td>False</td>\n",
       "      <td>200.0</td>\n",
       "      <td>robotic</td>\n",
       "      <td>partial_nephrectomy</td>\n",
       "      <td>Transperitoneal</td>\n",
       "      <td>229.0</td>\n",
       "      <td>False</td>\n",
       "      <td>False</td>\n",
       "      <td>censored</td>\n",
       "      <td>1185</td>\n",
       "      <td>False</td>\n",
       "      <td>False</td>\n",
       "      <td>False</td>\n",
       "      <td>False</td>\n",
       "      <td>False</td>\n",
       "      <td>True</td>\n",
       "      <td>False</td>\n",
       "      <td>False</td>\n",
       "      <td>True</td>\n",
       "      <td>False</td>\n",
       "      <td>True</td>\n",
       "      <td>False</td>\n",
       "      <td>False</td>\n",
       "      <td>False</td>\n",
       "      <td>False</td>\n",
       "      <td>False</td>\n",
       "      <td>False</td>\n",
       "      <td>False</td>\n",
       "      <td>False</td>\n",
       "      <td>False</td>\n",
       "      <td>False</td>\n",
       "      <td>False</td>\n",
       "      <td>None</td>\n",
       "      <td>NaN</td>\n",
       "      <td>85.0</td>\n",
       "      <td>76.0</td>\n",
       "      <td>83.0</td>\n",
       "      <td>1185.0</td>\n",
       "      <td>0.939453</td>\n",
       "      <td>0.939453</td>\n",
       "      <td>1.0</td>\n",
       "    </tr>\n",
       "    <tr>\n",
       "      <th>3</th>\n",
       "      <td>case_00003</td>\n",
       "      <td>44</td>\n",
       "      <td>female</td>\n",
       "      <td>38.69</td>\n",
       "      <td>previous_smoker</td>\n",
       "      <td>None</td>\n",
       "      <td>None</td>\n",
       "      <td>never_or_not_in_last_3mo</td>\n",
       "      <td>two_or_less_daily</td>\n",
       "      <td>0</td>\n",
       "      <td>15</td>\n",
       "      <td>3.0</td>\n",
       "      <td>2.9</td>\n",
       "      <td>True</td>\n",
       "      <td>1a</td>\n",
       "      <td>0</td>\n",
       "      <td>0</td>\n",
       "      <td>chromophobe</td>\n",
       "      <td>False</td>\n",
       "      <td>NaN</td>\n",
       "      <td>1</td>\n",
       "      <td>False</td>\n",
       "      <td>False</td>\n",
       "      <td>100.0</td>\n",
       "      <td>robotic</td>\n",
       "      <td>partial_nephrectomy</td>\n",
       "      <td>Transperitoneal</td>\n",
       "      <td>180.0</td>\n",
       "      <td>False</td>\n",
       "      <td>False</td>\n",
       "      <td>censored</td>\n",
       "      <td>114</td>\n",
       "      <td>False</td>\n",
       "      <td>False</td>\n",
       "      <td>False</td>\n",
       "      <td>False</td>\n",
       "      <td>False</td>\n",
       "      <td>False</td>\n",
       "      <td>False</td>\n",
       "      <td>False</td>\n",
       "      <td>False</td>\n",
       "      <td>False</td>\n",
       "      <td>False</td>\n",
       "      <td>False</td>\n",
       "      <td>False</td>\n",
       "      <td>False</td>\n",
       "      <td>False</td>\n",
       "      <td>False</td>\n",
       "      <td>False</td>\n",
       "      <td>False</td>\n",
       "      <td>False</td>\n",
       "      <td>False</td>\n",
       "      <td>False</td>\n",
       "      <td>False</td>\n",
       "      <td>86.0</td>\n",
       "      <td>61.0</td>\n",
       "      <td>80.0</td>\n",
       "      <td>114.0</td>\n",
       "      <td>80.0</td>\n",
       "      <td>114.0</td>\n",
       "      <td>0.855469</td>\n",
       "      <td>0.855469</td>\n",
       "      <td>1.0</td>\n",
       "    </tr>\n",
       "    <tr>\n",
       "      <th>4</th>\n",
       "      <td>case_00004</td>\n",
       "      <td>73</td>\n",
       "      <td>male</td>\n",
       "      <td>28.59</td>\n",
       "      <td>previous_smoker</td>\n",
       "      <td>55</td>\n",
       "      <td>None</td>\n",
       "      <td>never_or_not_in_last_3mo</td>\n",
       "      <td>never_or_not_in_last_3mo</td>\n",
       "      <td>2</td>\n",
       "      <td>17</td>\n",
       "      <td>3.0</td>\n",
       "      <td>3.4</td>\n",
       "      <td>True</td>\n",
       "      <td>1a</td>\n",
       "      <td>X</td>\n",
       "      <td>X</td>\n",
       "      <td>clear_cell_rcc</td>\n",
       "      <td>False</td>\n",
       "      <td>2.0</td>\n",
       "      <td>0</td>\n",
       "      <td>False</td>\n",
       "      <td>False</td>\n",
       "      <td>130.0</td>\n",
       "      <td>robotic</td>\n",
       "      <td>partial_nephrectomy</td>\n",
       "      <td>Transperitoneal</td>\n",
       "      <td>123.0</td>\n",
       "      <td>False</td>\n",
       "      <td>False</td>\n",
       "      <td>censored</td>\n",
       "      <td>500</td>\n",
       "      <td>False</td>\n",
       "      <td>False</td>\n",
       "      <td>False</td>\n",
       "      <td>False</td>\n",
       "      <td>False</td>\n",
       "      <td>False</td>\n",
       "      <td>False</td>\n",
       "      <td>False</td>\n",
       "      <td>True</td>\n",
       "      <td>False</td>\n",
       "      <td>False</td>\n",
       "      <td>False</td>\n",
       "      <td>False</td>\n",
       "      <td>False</td>\n",
       "      <td>False</td>\n",
       "      <td>False</td>\n",
       "      <td>False</td>\n",
       "      <td>False</td>\n",
       "      <td>False</td>\n",
       "      <td>False</td>\n",
       "      <td>False</td>\n",
       "      <td>False</td>\n",
       "      <td>None</td>\n",
       "      <td>NaN</td>\n",
       "      <td>45.0</td>\n",
       "      <td>500.0</td>\n",
       "      <td>45.0</td>\n",
       "      <td>500.0</td>\n",
       "      <td>0.976562</td>\n",
       "      <td>0.976562</td>\n",
       "      <td>4.0</td>\n",
       "    </tr>\n",
       "  </tbody>\n",
       "</table>\n",
       "</div>"
      ],
      "text/plain": [
       "      case_id  age_at_nephrectomy  gender  body_mass_index  smoking_history  \\\n",
       "0  case_00000                  49    male            29.47     never_smoked   \n",
       "1  case_00001                  50    male            33.71  previous_smoker   \n",
       "2  case_00002                  74    male            28.13   current_smoker   \n",
       "3  case_00003                  44  female            38.69  previous_smoker   \n",
       "4  case_00004                  73    male            28.59  previous_smoker   \n",
       "\n",
       "  age_when_quit_smoking pack_years       chewing_tobacco_use  \\\n",
       "0        not_applicable          0  never_or_not_in_last_3mo   \n",
       "1                    33          7  never_or_not_in_last_3mo   \n",
       "2        not_applicable         50  never_or_not_in_last_3mo   \n",
       "3                  None       None  never_or_not_in_last_3mo   \n",
       "4                    55       None  never_or_not_in_last_3mo   \n",
       "\n",
       "                alcohol_use hospitalization ischemia_time  radiographic_size  \\\n",
       "0         two_or_less_daily               2            20                2.4   \n",
       "1         two_or_less_daily               6            13                2.2   \n",
       "2  never_or_not_in_last_3mo               1            18                4.5   \n",
       "3         two_or_less_daily               0            15                3.0   \n",
       "4  never_or_not_in_last_3mo               2            17                3.0   \n",
       "\n",
       "   pathologic_size  malignant pathology_t_stage pathology_n_stage  \\\n",
       "0              2.1       True                1a                 0   \n",
       "1              2.4       True                1a                 X   \n",
       "2              5.4       True                 3                 0   \n",
       "3              2.9       True                1a                 0   \n",
       "4              3.4       True                1a                 X   \n",
       "\n",
       "  pathology_m_stage tumor_histologic_subtype tumor_necrosis  tumor_isup_grade  \\\n",
       "0                 0           clear_cell_rcc          False               3.0   \n",
       "1                 X                papillary          False               2.0   \n",
       "2                 0                papillary          False               2.0   \n",
       "3                 0              chromophobe          False               NaN   \n",
       "4                 X           clear_cell_rcc          False               2.0   \n",
       "\n",
       "  clavien_surgical_complications er_visit readmission  estimated_blood_loss  \\\n",
       "0                              0    False       False                 400.0   \n",
       "1                              1     True       False                1100.0   \n",
       "2                              0    False       False                 200.0   \n",
       "3                              1    False       False                 100.0   \n",
       "4                              0    False       False                 130.0   \n",
       "\n",
       "  surgery_type   surgical_procedure surgical_approach  operative_time  \\\n",
       "0      robotic  partial_nephrectomy   Transperitoneal           324.0   \n",
       "1         open  partial_nephrectomy   Retroperitoneal           293.0   \n",
       "2      robotic  partial_nephrectomy   Transperitoneal           229.0   \n",
       "3      robotic  partial_nephrectomy   Transperitoneal           180.0   \n",
       "4      robotic  partial_nephrectomy   Transperitoneal           123.0   \n",
       "\n",
       "   cytoreductive  positive_resection_margins vital_status  \\\n",
       "0          False                       False     censored   \n",
       "1          False                       False     censored   \n",
       "2          False                       False     censored   \n",
       "3          False                       False     censored   \n",
       "4          False                       False     censored   \n",
       "\n",
       "  vital_days_after_surgery  comorbidities.myocardial_infarction  \\\n",
       "0                     1420                                False   \n",
       "1                     1401                                False   \n",
       "2                     1185                                False   \n",
       "3                      114                                False   \n",
       "4                      500                                False   \n",
       "\n",
       "   comorbidities.congestive_heart_failure  \\\n",
       "0                                   False   \n",
       "1                                   False   \n",
       "2                                   False   \n",
       "3                                   False   \n",
       "4                                   False   \n",
       "\n",
       "   comorbidities.peripheral_vascular_disease  \\\n",
       "0                                      False   \n",
       "1                                      False   \n",
       "2                                      False   \n",
       "3                                      False   \n",
       "4                                      False   \n",
       "\n",
       "   comorbidities.cerebrovascular_disease  comorbidities.dementia  \\\n",
       "0                                  False                   False   \n",
       "1                                  False                   False   \n",
       "2                                  False                   False   \n",
       "3                                  False                   False   \n",
       "4                                  False                   False   \n",
       "\n",
       "   comorbidities.copd  comorbidities.connective_tissue_disease  \\\n",
       "0               False                                    False   \n",
       "1               False                                    False   \n",
       "2                True                                    False   \n",
       "3               False                                    False   \n",
       "4               False                                    False   \n",
       "\n",
       "   comorbidities.peptic_ulcer_disease  \\\n",
       "0                               False   \n",
       "1                               False   \n",
       "2                               False   \n",
       "3                               False   \n",
       "4                               False   \n",
       "\n",
       "   comorbidities.uncomplicated_diabetes_mellitus  \\\n",
       "0                                          False   \n",
       "1                                          False   \n",
       "2                                           True   \n",
       "3                                          False   \n",
       "4                                           True   \n",
       "\n",
       "   comorbidities.diabetes_mellitus_with_end_organ_damage  \\\n",
       "0                                              False       \n",
       "1                                              False       \n",
       "2                                              False       \n",
       "3                                              False       \n",
       "4                                              False       \n",
       "\n",
       "   comorbidities.chronic_kidney_disease  comorbidities.hemiplegia_from_stroke  \\\n",
       "0                                 False                                 False   \n",
       "1                                 False                                 False   \n",
       "2                                  True                                 False   \n",
       "3                                 False                                 False   \n",
       "4                                 False                                 False   \n",
       "\n",
       "   comorbidities.leukemia  comorbidities.malignant_lymphoma  \\\n",
       "0                   False                             False   \n",
       "1                   False                             False   \n",
       "2                   False                             False   \n",
       "3                   False                             False   \n",
       "4                   False                             False   \n",
       "\n",
       "   comorbidities.localized_solid_tumor  comorbidities.metastatic_solid_tumor  \\\n",
       "0                                False                                 False   \n",
       "1                                False                                 False   \n",
       "2                                False                                 False   \n",
       "3                                False                                 False   \n",
       "4                                False                                 False   \n",
       "\n",
       "   comorbidities.mild_liver_disease  \\\n",
       "0                             False   \n",
       "1                             False   \n",
       "2                             False   \n",
       "3                             False   \n",
       "4                             False   \n",
       "\n",
       "   comorbidities.moderate_to_severe_liver_disease  comorbidities.aids  \\\n",
       "0                                           False               False   \n",
       "1                                           False               False   \n",
       "2                                           False               False   \n",
       "3                                           False               False   \n",
       "4                                           False               False   \n",
       "\n",
       "   intraoperative_complications.blood_transfusion  \\\n",
       "0                                           False   \n",
       "1                                           False   \n",
       "2                                           False   \n",
       "3                                           False   \n",
       "4                                           False   \n",
       "\n",
       "   intraoperative_complications.injury_to_surrounding_organ  \\\n",
       "0                                              False          \n",
       "1                                              False          \n",
       "2                                              False          \n",
       "3                                              False          \n",
       "4                                              False          \n",
       "\n",
       "   intraoperative_complications.cardiac_event last_preop_egfr.value  \\\n",
       "0                                       False                  77.0   \n",
       "1                                       False                  67.0   \n",
       "2                                       False                  None   \n",
       "3                                       False                  86.0   \n",
       "4                                       False                  None   \n",
       "\n",
       "   last_preop_egfr.days_before_nephrectomy first_postop_egfr.value  \\\n",
       "0                                     54.0                    76.0   \n",
       "1                                      1.0                    58.0   \n",
       "2                                      NaN                    85.0   \n",
       "3                                     61.0                    80.0   \n",
       "4                                      NaN                    45.0   \n",
       "\n",
       "   first_postop_egfr.days_before_nephrectomy last_postop_egfr.value  \\\n",
       "0                                      184.0                   >=90   \n",
       "1                                      117.0                   56.0   \n",
       "2                                       76.0                   83.0   \n",
       "3                                      114.0                   80.0   \n",
       "4                                      500.0                   45.0   \n",
       "\n",
       "   last_postop_egfr.days_before_nephrectomy  voxel_spacing.x_spacing  \\\n",
       "0                                    1420.0                 0.919922   \n",
       "1                                    1401.0                 0.798828   \n",
       "2                                    1185.0                 0.939453   \n",
       "3                                     114.0                 0.855469   \n",
       "4                                     500.0                 0.976562   \n",
       "\n",
       "   voxel_spacing.y_spacing  voxel_spacing.z_spacing  \n",
       "0                 0.919922                      0.5  \n",
       "1                 0.798828                      0.5  \n",
       "2                 0.939453                      1.0  \n",
       "3                 0.855469                      1.0  \n",
       "4                 0.976562                      4.0  "
      ]
     },
     "execution_count": 3,
     "metadata": {},
     "output_type": "execute_result"
    }
   ],
   "source": [
    "#load json with meta data cases\n",
    "with open('/Users/Gladou/Documents/DataScientest/project/kits21/kits21/data/kits.json','r') as f:\n",
    "    data = json.loads(f.read())\n",
    "\n",
    "df = pd.json_normalize(data, max_level=1)\n",
    "df.head()"
   ]
  },
  {
   "cell_type": "code",
   "execution_count": 4,
   "id": "0c24e067",
   "metadata": {},
   "outputs": [
    {
     "data": {
      "text/plain": [
       "(300, 63)"
      ]
     },
     "execution_count": 4,
     "metadata": {},
     "output_type": "execute_result"
    }
   ],
   "source": [
    "df.shape"
   ]
  },
  {
   "cell_type": "code",
   "execution_count": 5,
   "id": "ee90de4e",
   "metadata": {},
   "outputs": [
    {
     "name": "stdout",
     "output_type": "stream",
     "text": [
      "<class 'pandas.core.frame.DataFrame'>\n",
      "RangeIndex: 300 entries, 0 to 299\n",
      "Data columns (total 63 columns):\n",
      " #   Column                                                    Non-Null Count  Dtype  \n",
      "---  ------                                                    --------------  -----  \n",
      " 0   case_id                                                   300 non-null    object \n",
      " 1   age_at_nephrectomy                                        300 non-null    int64  \n",
      " 2   gender                                                    300 non-null    object \n",
      " 3   body_mass_index                                           300 non-null    float64\n",
      " 4   smoking_history                                           300 non-null    object \n",
      " 5   age_when_quit_smoking                                     265 non-null    object \n",
      " 6   pack_years                                                194 non-null    object \n",
      " 7   chewing_tobacco_use                                       300 non-null    object \n",
      " 8   alcohol_use                                               300 non-null    object \n",
      " 9   hospitalization                                           300 non-null    object \n",
      " 10  ischemia_time                                             287 non-null    object \n",
      " 11  radiographic_size                                         300 non-null    float64\n",
      " 12  pathologic_size                                           300 non-null    float64\n",
      " 13  malignant                                                 300 non-null    bool   \n",
      " 14  pathology_t_stage                                         300 non-null    object \n",
      " 15  pathology_n_stage                                         300 non-null    object \n",
      " 16  pathology_m_stage                                         300 non-null    object \n",
      " 17  tumor_histologic_subtype                                  300 non-null    object \n",
      " 18  tumor_necrosis                                            266 non-null    object \n",
      " 19  tumor_isup_grade                                          244 non-null    float64\n",
      " 20  clavien_surgical_complications                            299 non-null    object \n",
      " 21  er_visit                                                  297 non-null    object \n",
      " 22  readmission                                               297 non-null    object \n",
      " 23  estimated_blood_loss                                      299 non-null    float64\n",
      " 24  surgery_type                                              300 non-null    object \n",
      " 25  surgical_procedure                                        300 non-null    object \n",
      " 26  surgical_approach                                         300 non-null    object \n",
      " 27  operative_time                                            298 non-null    float64\n",
      " 28  cytoreductive                                             300 non-null    bool   \n",
      " 29  positive_resection_margins                                300 non-null    bool   \n",
      " 30  vital_status                                              300 non-null    object \n",
      " 31  vital_days_after_surgery                                  300 non-null    object \n",
      " 32  comorbidities.myocardial_infarction                       300 non-null    bool   \n",
      " 33  comorbidities.congestive_heart_failure                    300 non-null    bool   \n",
      " 34  comorbidities.peripheral_vascular_disease                 300 non-null    bool   \n",
      " 35  comorbidities.cerebrovascular_disease                     300 non-null    bool   \n",
      " 36  comorbidities.dementia                                    300 non-null    bool   \n",
      " 37  comorbidities.copd                                        300 non-null    bool   \n",
      " 38  comorbidities.connective_tissue_disease                   300 non-null    bool   \n",
      " 39  comorbidities.peptic_ulcer_disease                        300 non-null    bool   \n",
      " 40  comorbidities.uncomplicated_diabetes_mellitus             300 non-null    bool   \n",
      " 41  comorbidities.diabetes_mellitus_with_end_organ_damage     300 non-null    bool   \n",
      " 42  comorbidities.chronic_kidney_disease                      300 non-null    bool   \n",
      " 43  comorbidities.hemiplegia_from_stroke                      300 non-null    bool   \n",
      " 44  comorbidities.leukemia                                    300 non-null    bool   \n",
      " 45  comorbidities.malignant_lymphoma                          300 non-null    bool   \n",
      " 46  comorbidities.localized_solid_tumor                       300 non-null    bool   \n",
      " 47  comorbidities.metastatic_solid_tumor                      300 non-null    bool   \n",
      " 48  comorbidities.mild_liver_disease                          300 non-null    bool   \n",
      " 49  comorbidities.moderate_to_severe_liver_disease            300 non-null    bool   \n",
      " 50  comorbidities.aids                                        300 non-null    bool   \n",
      " 51  intraoperative_complications.blood_transfusion            300 non-null    bool   \n",
      " 52  intraoperative_complications.injury_to_surrounding_organ  300 non-null    bool   \n",
      " 53  intraoperative_complications.cardiac_event                300 non-null    bool   \n",
      " 54  last_preop_egfr.value                                     226 non-null    object \n",
      " 55  last_preop_egfr.days_before_nephrectomy                   226 non-null    float64\n",
      " 56  first_postop_egfr.value                                   228 non-null    object \n",
      " 57  first_postop_egfr.days_before_nephrectomy                 228 non-null    float64\n",
      " 58  last_postop_egfr.value                                    228 non-null    object \n",
      " 59  last_postop_egfr.days_before_nephrectomy                  228 non-null    float64\n",
      " 60  voxel_spacing.x_spacing                                   300 non-null    float64\n",
      " 61  voxel_spacing.y_spacing                                   300 non-null    float64\n",
      " 62  voxel_spacing.z_spacing                                   300 non-null    float64\n",
      "dtypes: bool(25), float64(12), int64(1), object(25)\n",
      "memory usage: 96.5+ KB\n"
     ]
    }
   ],
   "source": [
    "df.info()"
   ]
  },
  {
   "cell_type": "markdown",
   "id": "372306ca",
   "metadata": {},
   "source": [
    "## Gender Proportion"
   ]
  },
  {
   "cell_type": "code",
   "execution_count": 6,
   "id": "aa4822c1",
   "metadata": {},
   "outputs": [
    {
     "data": {
      "image/png": "[encoded data removed]",
      "text/plain": [
       "<Figure size 1152x432 with 1 Axes>"
      ]
     },
     "metadata": {},
     "output_type": "display_data"
    }
   ],
   "source": [
    "plt.figure(figsize=(16,6))\n",
    "\n",
    "ax = sns.countplot(x=df['gender'], palette='Set2')\n",
    "\n",
    "plt.xlabel('')\n",
    "plt.ylabel('Number of cases', labelpad=30)\n",
    "plt.title('Gender Proportion', pad=30)\n",
    "\n",
    "for p in ax.patches:\n",
    "    ax.annotate(str(p.get_height()),\n",
    "                (p.get_x() + p.get_width() / 2., p.get_height()),\n",
    "                ha = 'center', va = 'center', \n",
    "                xytext = (0, 9), textcoords = 'offset points')\n",
    "\n",
    "plt.show(ax)"
   ]
  },
  {
   "cell_type": "code",
   "execution_count": 7,
   "id": "3b4fa0f6",
   "metadata": {},
   "outputs": [],
   "source": [
    "#for more simplicity, we decide to associate the transgender person with the category of their gender at birth\n",
    "df.loc[df['gender'] == 'transgender_male_to_female', 'gender'] = 'male'"
   ]
  },
  {
   "cell_type": "code",
   "execution_count": 8,
   "id": "d153a674",
   "metadata": {},
   "outputs": [
    {
     "data": {
      "image/png": "[encoded data removed]",
      "text/plain": [
       "<Figure size 576x432 with 1 Axes>"
      ]
     },
     "metadata": {},
     "output_type": "display_data"
    }
   ],
   "source": [
    "plt.figure(figsize=(8,6))\n",
    "\n",
    "labels=['Male', 'Female']\n",
    "colors = sns.color_palette('Set2')\n",
    "\n",
    "plt.pie(df['gender'].value_counts(), labels=labels, autopct='%1.f%%', colors=colors)\n",
    "plt.title('Gender Proportion', fontsize=18, pad=30)\n",
    "\n",
    "plt.show()"
   ]
  },
  {
   "cell_type": "markdown",
   "id": "dc040835",
   "metadata": {},
   "source": [
    "## Body Mass Index"
   ]
  },
  {
   "cell_type": "code",
   "execution_count": 9,
   "id": "0008f058",
   "metadata": {},
   "outputs": [
    {
     "data": {
      "image/png": "[encoded data removed]",
      "text/plain": [
       "<Figure size 1152x432 with 1 Axes>"
      ]
     },
     "metadata": {},
     "output_type": "display_data"
    }
   ],
   "source": [
    "plt.figure(figsize=(16,6))\n",
    "\n",
    "sns.histplot(x=df['body_mass_index'], kde=True, color='#4cb2ff')\n",
    "\n",
    "plt.title('Distribution of BMI', pad=30)\n",
    "plt.show()"
   ]
  },
  {
   "cell_type": "markdown",
   "id": "cf8ea4d7",
   "metadata": {},
   "source": [
    "## Alcohol Use"
   ]
  },
  {
   "cell_type": "code",
   "execution_count": 10,
   "id": "14b8d814",
   "metadata": {},
   "outputs": [],
   "source": [
    "df.loc[df['alcohol_use'] == '', 'alcohol_use'] = 'not_communicated'"
   ]
  },
  {
   "cell_type": "code",
   "execution_count": 11,
   "id": "359df58d",
   "metadata": {},
   "outputs": [
    {
     "data": {
      "image/png": "[encoded data removed]",
      "text/plain": [
       "<Figure size 1152x432 with 1 Axes>"
      ]
     },
     "metadata": {},
     "output_type": "display_data"
    }
   ],
   "source": [
    "plt.figure(figsize=(16,6))\n",
    "\n",
    "ax = sns.countplot(x=df['alcohol_use'], palette='pastel')\n",
    "\n",
    "plt.xlabel('')\n",
    "plt.ylabel('Number of cases', labelpad=30)\n",
    "plt.title('Alcohol Use', pad=30)\n",
    "\n",
    "for p in ax.patches:\n",
    "    ax.annotate(str(p.get_height()),\n",
    "                (p.get_x() + p.get_width() / 2., p.get_height()),\n",
    "                ha = 'center', va = 'center', \n",
    "                xytext = (0, 9), textcoords = 'offset points')\n",
    "\n",
    "plt.show(ax)"
   ]
  },
  {
   "cell_type": "markdown",
   "id": "646fc07f",
   "metadata": {},
   "source": [
    "## Smocking History"
   ]
  },
  {
   "cell_type": "code",
   "execution_count": 12,
   "id": "c3a3b097",
   "metadata": {},
   "outputs": [
    {
     "data": {
      "image/png": "[encoded data removed]",
      "text/plain": [
       "<Figure size 1152x432 with 1 Axes>"
      ]
     },
     "metadata": {},
     "output_type": "display_data"
    }
   ],
   "source": [
    "plt.figure(figsize=(16,6))\n",
    "\n",
    "ax = sns.countplot(x=df['smoking_history'], palette='Set3')\n",
    "\n",
    "plt.xlabel('')\n",
    "plt.ylabel('Number of cases', labelpad=30)\n",
    "plt.title('Smocking History', pad=30)\n",
    "\n",
    "\n",
    "for p in ax.patches:\n",
    "    ax.annotate(str(p.get_height()),\n",
    "                (p.get_x() + p.get_width() / 2., p.get_height()),\n",
    "                ha = 'center', va = 'center', \n",
    "                xytext = (0, 9), textcoords = 'offset points')\n",
    "\n",
    "plt.show(ax)"
   ]
  },
  {
   "cell_type": "markdown",
   "id": "05de5fc3",
   "metadata": {},
   "source": [
    "## Malignancy"
   ]
  },
  {
   "cell_type": "markdown",
   "id": "33c0615c",
   "metadata": {},
   "source": [
    "📌 Summary : \n",
    "\n",
    "Kidney cancer, which ranks 6th among solid malignant tumors, is one of the most common malignant tumors in adults worldwide. Fortunately, most kidney tumors are discovered early, by chance in 70 to 80% of cases, when they are still localized and operable.\n",
    "<br><br>\n",
    "Almost 70-80% of kidney tumors are malignant.\n",
    "<br><br>\n",
    "The median age at diagnosis is 69 and the sex ratio is two men for one woman. A third of patients are diagnosed at the metastatic stage, and among patients with a localized form, about 30% will develop metastases.\n",
    "<br><br>\n",
    "The risk factors for kidney cancer are: tobacco, obesity, male sex, high blood pressure, renal failure, kidney transplantation, environmental exposure (trichlorethylene) as well as certain genetic predispositions.\n",
    "<br><br>\n",
    "There are two types of lesions : cystic (hollow) lesions and tumors (benign or malignant solid lesions)."
   ]
  },
  {
   "cell_type": "code",
   "execution_count": 13,
   "id": "45831ce2",
   "metadata": {},
   "outputs": [
    {
     "data": {
      "image/png": "[encoded data removed]",
      "text/plain": [
       "<Figure size 1152x432 with 1 Axes>"
      ]
     },
     "metadata": {},
     "output_type": "display_data"
    }
   ],
   "source": [
    "plt.figure(figsize=(16,6))\n",
    "\n",
    "ax = sns.countplot(x=df['malignant'], palette=('#4cb2ff', '#61ba86'))\n",
    "\n",
    "plt.xlabel('')\n",
    "plt.ylabel('Number of cases', labelpad=30)\n",
    "plt.title('Tumor Malignancy', pad=30)\n",
    "\n",
    "for p in ax.patches:\n",
    "    ax.annotate(str(p.get_height()),\n",
    "                (p.get_x() + p.get_width() / 2., p.get_height()),\n",
    "                ha = 'center', va = 'center', \n",
    "                xytext = (0, 9), textcoords = 'offset points')\n",
    "\n",
    "plt.show(ax)"
   ]
  },
  {
   "cell_type": "markdown",
   "id": "cd4f4e9d",
   "metadata": {},
   "source": [
    "### According to Gender"
   ]
  },
  {
   "cell_type": "code",
   "execution_count": 14,
   "id": "bcfd25da",
   "metadata": {},
   "outputs": [
    {
     "data": {
      "image/png": "[encoded data removed]",
      "text/plain": [
       "<Figure size 1152x432 with 1 Axes>"
      ]
     },
     "metadata": {},
     "output_type": "display_data"
    }
   ],
   "source": [
    "plt.figure(figsize=(16,6))\n",
    "\n",
    "ax = sns.countplot(x=df['gender'], hue=df['malignant'], palette=('#4cb2ff', '#61ba86'))\n",
    "\n",
    "plt.xlabel('')\n",
    "plt.ylabel('Number of cases', labelpad=30)\n",
    "plt.title('Gender proportion according to tumor malignancy', pad=30)\n",
    "\n",
    "for p in ax.patches:\n",
    "    ax.annotate(str(p.get_height()),\n",
    "                (p.get_x() + p.get_width() / 2., p.get_height()),\n",
    "                ha = 'center', va = 'center', \n",
    "                xytext = (0, 9), textcoords = 'offset points')\n",
    "\n",
    "plt.show(ax)"
   ]
  },
  {
   "cell_type": "markdown",
   "id": "8a79f43f",
   "metadata": {},
   "source": [
    "### According to BMI"
   ]
  },
  {
   "cell_type": "code",
   "execution_count": 15,
   "id": "9c2cf6f4",
   "metadata": {},
   "outputs": [
    {
     "data": {
      "image/png": "[encoded data removed]",
      "text/plain": [
       "<Figure size 1152x432 with 1 Axes>"
      ]
     },
     "metadata": {},
     "output_type": "display_data"
    }
   ],
   "source": [
    "plt.figure(figsize=(16,6))\n",
    "\n",
    "sns.boxplot(x=df['body_mass_index'], y=df['malignant'], orient='h', palette=('#4cb2ff', '#61ba86'))\n",
    "\n",
    "plt.xlabel('BMI', labelpad=30)\n",
    "plt.ylabel('Malignant', labelpad=30)\n",
    "plt.title('BMI Distribution by tumor malignancy', pad=30)\n",
    "plt.show()"
   ]
  },
  {
   "cell_type": "markdown",
   "id": "2be4e644",
   "metadata": {},
   "source": [
    "### According to Alcohol Use"
   ]
  },
  {
   "cell_type": "code",
   "execution_count": 16,
   "id": "4d8929df",
   "metadata": {},
   "outputs": [
    {
     "data": {
      "image/png": "[encoded data removed]",
      "text/plain": [
       "<Figure size 1152x432 with 1 Axes>"
      ]
     },
     "metadata": {},
     "output_type": "display_data"
    }
   ],
   "source": [
    "plt.figure(figsize=(16,6))\n",
    "ax = sns.countplot(x=df['alcohol_use'], hue=df['malignant'],  palette=('#4cb2ff', '#61ba86'))\n",
    "plt.xlabel('')\n",
    "plt.ylabel('Number of cases', labelpad=30)\n",
    "plt.title('Alcohol consumption according to tumor malignancy', pad=30)\n",
    "\n",
    "for p in ax.patches:\n",
    "    ax.annotate(str(p.get_height()),\n",
    "                (p.get_x() + p.get_width() / 2., p.get_height()),\n",
    "                ha = 'center', va = 'center', \n",
    "                xytext = (0, 9), textcoords = 'offset points')\n",
    "\n",
    "plt.show(ax)"
   ]
  },
  {
   "cell_type": "markdown",
   "id": "4c886853",
   "metadata": {},
   "source": [
    "### According to Histologic Type"
   ]
  },
  {
   "cell_type": "code",
   "execution_count": 17,
   "id": "23d226c8",
   "metadata": {},
   "outputs": [],
   "source": [
    "df.loc[df['tumor_histologic_subtype'] == '', 'tumor_histologic_subtype'] = 'not_communicated'"
   ]
  },
  {
   "cell_type": "code",
   "execution_count": 18,
   "id": "94a97533",
   "metadata": {},
   "outputs": [
    {
     "data": {
      "text/plain": [
       "tumor_histologic_subtype\n",
       "angiomyolipoma               [False]\n",
       "chromophobe                   [True]\n",
       "clear_cell_papillary_rcc      [True]\n",
       "clear_cell_rcc                [True]\n",
       "collecting_duct_undefined     [True]\n",
       "mest                         [False]\n",
       "multilocular_cystic_rcc       [True]\n",
       "not_communicated             [False]\n",
       "oncocytoma                   [False]\n",
       "other                         [True]\n",
       "papillary                     [True]\n",
       "rcc_unclassified              [True]\n",
       "spindle_cell_neoplasm        [False]\n",
       "urothelial                    [True]\n",
       "wilms                         [True]\n",
       "Name: malignant, dtype: object"
      ]
     },
     "execution_count": 18,
     "metadata": {},
     "output_type": "execute_result"
    }
   ],
   "source": [
    "df.groupby('tumor_histologic_subtype')['malignant'].unique()"
   ]
  },
  {
   "cell_type": "code",
   "execution_count": 19,
   "id": "de1da65c",
   "metadata": {},
   "outputs": [
    {
     "data": {
      "text/plain": [
       "clear_cell_rcc               204\n",
       "papillary                     28\n",
       "chromophobe                   27\n",
       "oncocytoma                    16\n",
       "clear_cell_papillary_rcc       7\n",
       "angiomyolipoma                 5\n",
       "urothelial                     3\n",
       "rcc_unclassified               2\n",
       "mest                           2\n",
       "spindle_cell_neoplasm          1\n",
       "wilms                          1\n",
       "multilocular_cystic_rcc        1\n",
       "not_communicated               1\n",
       "other                          1\n",
       "collecting_duct_undefined      1\n",
       "Name: tumor_histologic_subtype, dtype: int64"
      ]
     },
     "execution_count": 19,
     "metadata": {},
     "output_type": "execute_result"
    }
   ],
   "source": [
    "df['tumor_histologic_subtype'].value_counts()"
   ]
  },
  {
   "cell_type": "markdown",
   "id": "6ce9e6d5",
   "metadata": {},
   "source": [
    "## Voxel Spacing"
   ]
  },
  {
   "cell_type": "markdown",
   "id": "6d11ab42",
   "metadata": {},
   "source": [
    "📌 Voxel Z spacing corresponding to the slice thickness. Important information if final 3D network."
   ]
  },
  {
   "cell_type": "code",
   "execution_count": 20,
   "id": "2b2de53e",
   "metadata": {},
   "outputs": [
    {
     "data": {
      "image/png": "[encoded data removed]",
      "text/plain": [
       "<Figure size 864x432 with 1 Axes>"
      ]
     },
     "metadata": {},
     "output_type": "display_data"
    }
   ],
   "source": [
    "plt.figure(figsize=(12,6))\n",
    "\n",
    "sns.countplot(x=round(df['voxel_spacing.z_spacing'],2), palette='crest')\n",
    "\n",
    "plt.xlabel('Voxel Z Spacing', labelpad=30)\n",
    "plt.ylabel('Number of cases', labelpad=30)\n",
    "plt.title('Slice Thickness', pad=30)\n",
    "\n",
    "plt.show()"
   ]
  },
  {
   "cell_type": "markdown",
   "id": "867f3071",
   "metadata": {},
   "source": [
    "# Hypothesis"
   ]
  },
  {
   "cell_type": "markdown",
   "id": "149ab0c1",
   "metadata": {},
   "source": [
    "⁉️ The KiTS21 cohort includes patients who underwent partial or radical nephrectomy for suspected renal malignancy between 2010 and 2020. A retrospective review of these cases was conducted to identify all patients who had undergone a preoperative contrast-enhanced CT scan that included all of the kidneys.\n",
    "\n",
    "Therefore, making assumptions on this data set is not prudent because of the bias on the input population as well as on the constitution of the sample."
   ]
  },
  {
   "cell_type": "markdown",
   "id": "0b9b15f9",
   "metadata": {},
   "source": [
    "# Conclusion"
   ]
  },
  {
   "cell_type": "markdown",
   "id": "4235f699",
   "metadata": {},
   "source": [
    "⚠️ This notebook does not enter voluntarily into the exploratory data analysis. This was to meet the data visualization objective requested in step 1 of the red thread project. As it was difficult to achieve multiple relevant visualizations on the images used for segmentation, json exploration seemed more appropriate.\n",
    "\n",
    "The image preprocessing steps will be processed in a future notebook."
   ]
  },
  {
   "cell_type": "code",
   "execution_count": 22,
   "id": "050577b5",
   "metadata": {},
   "outputs": [
    {
     "data": {
      "text/plain": [
       "numpy.ndarray"
      ]
     },
     "execution_count": 22,
     "metadata": {},
     "output_type": "execute_result"
    }
   ],
   "source": [
    "# Define the image path and load the data\n",
    "image_path = \"/Users/Gladou/Documents/DataScientest/project/kits21/kits21/data/case_00000/imaging.nii.gz\"\n",
    "image_obj = nib.load(image_path)\n",
    "\n",
    "# Extract data as numpy ndarray\n",
    "image_data = image_obj.get_fdata()\n",
    "type(image_data)"
   ]
  },
  {
   "cell_type": "code",
   "execution_count": 23,
   "id": "7f816c53",
   "metadata": {},
   "outputs": [
    {
     "data": {
      "text/plain": [
       "(611, 512, 512)"
      ]
     },
     "execution_count": 23,
     "metadata": {},
     "output_type": "execute_result"
    }
   ],
   "source": [
    "image_data.shape"
   ]
  },
  {
   "cell_type": "code",
   "execution_count": 24,
   "id": "c3977887",
   "metadata": {},
   "outputs": [
    {
     "data": {
      "application/vnd.jupyter.widget-view+json": {
       "model_id": "75708fdc401f490584b3c51bea487152",
       "version_major": 2,
       "version_minor": 0
      },
      "text/plain": [
       "interactive(children=(IntSlider(value=255, description='layer', max=511), Output()), _dom_classes=('widget-int…"
      ]
     },
     "metadata": {},
     "output_type": "display_data"
    }
   ],
   "source": [
    "# Define a function to visualize the raw data\n",
    "def explore_3dimage(layer):\n",
    "    plt.figure(figsize=(10, 5))\n",
    "    plt.imshow(image_data[layer, : , :], cmap='gray');\n",
    "    plt.title('', fontsize=20)\n",
    "    plt.axis('off')\n",
    "    return layer\n",
    "\n",
    "# Run the ipywidgets interact() function to explore the data\n",
    "interact(explore_3dimage, layer=(0, image_data.shape[2] - 1));"
   ]
  },
  {
   "cell_type": "code",
   "execution_count": 25,
   "id": "a91742cf",
   "metadata": {},
   "outputs": [
    {
     "data": {
      "application/vnd.jupyter.widget-view+json": {
       "model_id": "c04e6ebdfc6342518c8ca65188ef82d9",
       "version_major": 2,
       "version_minor": 0
      },
      "text/plain": [
       "interactive(children=(IntSlider(value=255, description='layer', max=511), Output()), _dom_classes=('widget-int…"
      ]
     },
     "metadata": {},
     "output_type": "display_data"
    }
   ],
   "source": [
    "# Same for the segmentation\n",
    "seg_path = \"/Users/Gladou/Documents/DataScientest/project/kits21/kits21/data/case_00000/aggregated_MAJ_seg.nii.gz\"\n",
    "seg_obj = nib.load(seg_path)\n",
    "\n",
    "# Extract data as numpy ndarray\n",
    "seg_data = seg_obj.get_fdata()\n",
    "\n",
    "# Define a function to visualize the segmentation\n",
    "def explore_3dimage(layer):\n",
    "    plt.figure(figsize=(10, 5))\n",
    "    plt.imshow(seg_data[layer, : , :], cmap='gray');\n",
    "    plt.title('', fontsize=20)\n",
    "    plt.axis('off')\n",
    "    return layer\n",
    "\n",
    "# Run the ipywidgets interact() function to explore the data\n",
    "interact(explore_3dimage, layer=(0, seg_data.shape[2] - 1));"
   ]
  },
  {
   "cell_type": "code",
   "execution_count": 27,
   "id": "cd2a75d0",
   "metadata": {},
   "outputs": [
    {
     "data": {
      "image/png": "[encoded data removed]",
      "text/plain": [
       "<Figure size 432x288 with 1 Axes>"
      ]
     },
     "metadata": {},
     "output_type": "display_data"
    }
   ],
   "source": [
    "plt.hist(image_data.flatten());"
   ]
  }
 ],
 "metadata": {
  "kernelspec": {
   "display_name": "Python 3 (ipykernel)",
   "language": "python",
   "name": "python3"
  },
  "language_info": {
   "codemirror_mode": {
    "name": "ipython",
    "version": 3
   },
   "file_extension": ".py",
   "mimetype": "text/x-python",
   "name": "python",
   "nbconvert_exporter": "python",
   "pygments_lexer": "ipython3",
   "version": "3.8.12"
  },
  "toc": {
   "base_numbering": 1,
   "nav_menu": {},
   "number_sections": true,
   "sideBar": true,
   "skip_h1_title": false,
   "title_cell": "Table of Contents",
   "title_sidebar": "Contents",
   "toc_cell": false,
   "toc_position": {
    "height": "calc(100% - 180px)",
    "left": "10px",
    "top": "150px",
    "width": "288px"
   },
   "toc_section_display": true,
   "toc_window_display": true
  }
 },
 "nbformat": 4,
 "nbformat_minor": 5
}
